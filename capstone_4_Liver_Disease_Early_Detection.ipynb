{
 "cells": [
  {
   "cell_type": "markdown",
   "id": "262d5bd0",
   "metadata": {},
   "source": [
    "# Capstone 4 - Liver Disease Early Detection\n",
    "---\n",
    "\n",
    "\n",
    "\n",
    "\n",
    "\n"
   ]
  },
  {
   "cell_type": "markdown",
   "id": "4ef20b34",
   "metadata": {},
   "source": [
    "<font color = \"blue\">My Role:<br>\n",
    "\n",
    "<font color = \"blue\"> As a Junior AI Engineer employed at a Healthcare Company, I am currently engaged in a project assigned by the Lab Department of the Ministry of Health (MOH). Our objective is to develop a cost-effective (aka cheap) machine learning algorithm known as \"Liver Disease Early Detection Program\"."
   ]
  },
  {
   "cell_type": "markdown",
   "id": "6fcc2359",
   "metadata": {},
   "source": [
    " ---"
   ]
  },
  {
   "cell_type": "markdown",
   "id": "8e17e44b",
   "metadata": {},
   "source": [
    "<font color = 'blue'> The dataset (from UCI Machine Learning) comprises 416 records of patients with liver disease and 167 records of patients without liver disease. <br> \n",
    "    It was collected from the northeastern region of Andhra Pradesh, India. <br>\n",
    "    The \"Liver Disease\" column serves as a class label to categorize the patients into two groups: those with liver disease and those without. <br>\n",
    "    Among the patients, there are 441 males and 142 females. <br>\n",
    "    If a patient's age surpasses 89, their age is recorded as \"90.\""
   ]
  },
  {
   "cell_type": "markdown",
   "id": "e66df944",
   "metadata": {},
   "source": [
    "<font color = \"blue\"> 01. **[Age]**    Age of the patient <br>\n",
    "<font color = \"blue\"> 02. **[Gender]** Gender of the patient <br>\n",
    "<font color = \"blue\"> 03. **[TB]**     Total Bilirubin <br>\n",
    "<font color = \"blue\"> 04. **[DB]**\t   Direct Bilirubin <br>\n",
    "<font color = \"blue\"> 05. **[Alkphos]** Alkaline Phosphotase<br>\n",
    "<font color = \"blue\"> 06. **[Sgpt]** Alamine Aminotransferase<br>\n",
    "<font color = \"blue\"> 07. **[Sgot]** Aspartate Aminotransferase<br>\n",
    "<font color = \"blue\"> 08. **[TP]** Total Protiens<br>\n",
    "<font color = \"blue\"> 09. **[ALB]** Albumin<br>\n",
    "<font color = \"blue\"> 10. **[A/G Ratio]** Albumin and Globulin Ratio<br>\n",
    "<font color = \"blue\"> 11. **[Liver Disease]** Selector field used to split the data into two sets (labeled by the experts)"
   ]
  },
  {
   "cell_type": "markdown",
   "id": "9519a8f8",
   "metadata": {},
   "source": [
    "---"
   ]
  },
  {
   "cell_type": "markdown",
   "id": "c0fbb8e8",
   "metadata": {},
   "source": [
    "<font color = 'blue'> Let's open the csv file and examine the data."
   ]
  },
  {
   "cell_type": "markdown",
   "id": "e95a4448",
   "metadata": {},
   "source": [
    "<div>\n",
    "   <img src=\"csv_screenshot.JPG\" width=\"700\">\n",
    "</div>"
   ]
  },
  {
   "cell_type": "markdown",
   "id": "340ad232",
   "metadata": {},
   "source": [
    " "
   ]
  },
  {
   "cell_type": "markdown",
   "id": "8b012663",
   "metadata": {},
   "source": [
    "# 1. Libraries"
   ]
  },
  {
   "cell_type": "code",
   "execution_count": 1,
   "id": "9fb6e561",
   "metadata": {},
   "outputs": [],
   "source": [
    "# Importing libraries\n",
    "\n",
    "import pandas as pd\n",
    "import numpy as np\n",
    "import matplotlib.pyplot as plt\n",
    "import seaborn as sns\n",
    "\n",
    "from sklearn.ensemble import RandomForestClassifier\n",
    "from sklearn.linear_model import LogisticRegression\n",
    "from sklearn.neighbors import KNeighborsClassifier \n",
    "from sklearn.model_selection import train_test_split\n",
    "from sklearn.preprocessing import StandardScaler\n",
    "\n",
    "from sklearn.metrics import confusion_matrix, ConfusionMatrixDisplay\n",
    "from sklearn.metrics import classification_report\n",
    "from sklearn.metrics import accuracy_score, precision_score, recall_score, f1_score\n",
    "from sklearn.metrics import roc_curve, roc_auc_score, auc\n",
    "\n",
    "import warnings\n",
    "warnings.filterwarnings('ignore')"
   ]
  },
  {
   "cell_type": "markdown",
   "id": "4b2d8630",
   "metadata": {},
   "source": [
    " \n",
    "  \n",
    "   "
   ]
  },
  {
   "cell_type": "markdown",
   "id": "473bae57",
   "metadata": {},
   "source": [
    " "
   ]
  },
  {
   "cell_type": "markdown",
   "id": "e130278c",
   "metadata": {},
   "source": [
    "# 2. Explore the dataset"
   ]
  },
  {
   "cell_type": "markdown",
   "id": "96091e9b",
   "metadata": {},
   "source": [
    "<font color = 'blue'> Load the dataset, and add headers."
   ]
  },
  {
   "cell_type": "code",
   "execution_count": 2,
   "id": "72291e0b",
   "metadata": {},
   "outputs": [],
   "source": [
    "# Loading the raw dataset\n",
    "initial_df = pd.read_csv('Indian_Liver_Patient_Dataset.csv')"
   ]
  },
  {
   "cell_type": "code",
   "execution_count": 3,
   "id": "b89fde72",
   "metadata": {},
   "outputs": [],
   "source": [
    "# Add headers\n",
    "initial_df.columns = [\"Age\", \"Gender\", \"TB\", \"DB\", \"Alkphos\", \"Sgpt\", \"Sgot\", \"TP\", \"ALB\", \"AG_Ratio\", \"Liver_Disease\"]  "
   ]
  },
  {
   "cell_type": "code",
   "execution_count": 4,
   "id": "50110b5c",
   "metadata": {},
   "outputs": [
    {
     "data": {
      "text/html": [
       "<div>\n",
       "<style scoped>\n",
       "    .dataframe tbody tr th:only-of-type {\n",
       "        vertical-align: middle;\n",
       "    }\n",
       "\n",
       "    .dataframe tbody tr th {\n",
       "        vertical-align: top;\n",
       "    }\n",
       "\n",
       "    .dataframe thead th {\n",
       "        text-align: right;\n",
       "    }\n",
       "</style>\n",
       "<table border=\"1\" class=\"dataframe\">\n",
       "  <thead>\n",
       "    <tr style=\"text-align: right;\">\n",
       "      <th></th>\n",
       "      <th>Age</th>\n",
       "      <th>Gender</th>\n",
       "      <th>TB</th>\n",
       "      <th>DB</th>\n",
       "      <th>Alkphos</th>\n",
       "      <th>Sgpt</th>\n",
       "      <th>Sgot</th>\n",
       "      <th>TP</th>\n",
       "      <th>ALB</th>\n",
       "      <th>AG_Ratio</th>\n",
       "      <th>Liver_Disease</th>\n",
       "    </tr>\n",
       "  </thead>\n",
       "  <tbody>\n",
       "    <tr>\n",
       "      <th>268</th>\n",
       "      <td>26</td>\n",
       "      <td>Male</td>\n",
       "      <td>0.6</td>\n",
       "      <td>0.1</td>\n",
       "      <td>110</td>\n",
       "      <td>15</td>\n",
       "      <td>20</td>\n",
       "      <td>2.8</td>\n",
       "      <td>1.6</td>\n",
       "      <td>1.30</td>\n",
       "      <td>1</td>\n",
       "    </tr>\n",
       "    <tr>\n",
       "      <th>123</th>\n",
       "      <td>28</td>\n",
       "      <td>Male</td>\n",
       "      <td>0.6</td>\n",
       "      <td>0.1</td>\n",
       "      <td>177</td>\n",
       "      <td>36</td>\n",
       "      <td>29</td>\n",
       "      <td>6.9</td>\n",
       "      <td>4.1</td>\n",
       "      <td>1.40</td>\n",
       "      <td>2</td>\n",
       "    </tr>\n",
       "    <tr>\n",
       "      <th>243</th>\n",
       "      <td>54</td>\n",
       "      <td>Male</td>\n",
       "      <td>0.8</td>\n",
       "      <td>0.2</td>\n",
       "      <td>218</td>\n",
       "      <td>20</td>\n",
       "      <td>19</td>\n",
       "      <td>6.3</td>\n",
       "      <td>2.5</td>\n",
       "      <td>0.60</td>\n",
       "      <td>1</td>\n",
       "    </tr>\n",
       "    <tr>\n",
       "      <th>23</th>\n",
       "      <td>63</td>\n",
       "      <td>Male</td>\n",
       "      <td>0.9</td>\n",
       "      <td>0.2</td>\n",
       "      <td>194</td>\n",
       "      <td>52</td>\n",
       "      <td>45</td>\n",
       "      <td>6.0</td>\n",
       "      <td>3.9</td>\n",
       "      <td>1.85</td>\n",
       "      <td>2</td>\n",
       "    </tr>\n",
       "    <tr>\n",
       "      <th>463</th>\n",
       "      <td>45</td>\n",
       "      <td>Female</td>\n",
       "      <td>0.7</td>\n",
       "      <td>0.2</td>\n",
       "      <td>164</td>\n",
       "      <td>21</td>\n",
       "      <td>53</td>\n",
       "      <td>4.5</td>\n",
       "      <td>1.4</td>\n",
       "      <td>0.45</td>\n",
       "      <td>2</td>\n",
       "    </tr>\n",
       "  </tbody>\n",
       "</table>\n",
       "</div>"
      ],
      "text/plain": [
       "     Age  Gender   TB   DB  Alkphos  Sgpt  Sgot   TP  ALB  AG_Ratio  \\\n",
       "268   26    Male  0.6  0.1      110    15    20  2.8  1.6      1.30   \n",
       "123   28    Male  0.6  0.1      177    36    29  6.9  4.1      1.40   \n",
       "243   54    Male  0.8  0.2      218    20    19  6.3  2.5      0.60   \n",
       "23    63    Male  0.9  0.2      194    52    45  6.0  3.9      1.85   \n",
       "463   45  Female  0.7  0.2      164    21    53  4.5  1.4      0.45   \n",
       "\n",
       "     Liver_Disease  \n",
       "268              1  \n",
       "123              2  \n",
       "243              1  \n",
       "23               2  \n",
       "463              2  "
      ]
     },
     "execution_count": 4,
     "metadata": {},
     "output_type": "execute_result"
    }
   ],
   "source": [
    "# Show first 10 rows\n",
    "initial_df.sample(5)"
   ]
  },
  {
   "cell_type": "code",
   "execution_count": 5,
   "id": "412c5dc3",
   "metadata": {},
   "outputs": [
    {
     "name": "stdout",
     "output_type": "stream",
     "text": [
      "<class 'pandas.core.frame.DataFrame'>\n",
      "RangeIndex: 582 entries, 0 to 581\n",
      "Data columns (total 11 columns):\n",
      " #   Column         Non-Null Count  Dtype  \n",
      "---  ------         --------------  -----  \n",
      " 0   Age            582 non-null    int64  \n",
      " 1   Gender         582 non-null    object \n",
      " 2   TB             582 non-null    float64\n",
      " 3   DB             582 non-null    float64\n",
      " 4   Alkphos        582 non-null    int64  \n",
      " 5   Sgpt           582 non-null    int64  \n",
      " 6   Sgot           582 non-null    int64  \n",
      " 7   TP             582 non-null    float64\n",
      " 8   ALB            582 non-null    float64\n",
      " 9   AG_Ratio       578 non-null    float64\n",
      " 10  Liver_Disease  582 non-null    int64  \n",
      "dtypes: float64(5), int64(5), object(1)\n",
      "memory usage: 50.1+ KB\n"
     ]
    }
   ],
   "source": [
    "initial_df.info()"
   ]
  },
  {
   "cell_type": "markdown",
   "id": "83c99b3b",
   "metadata": {},
   "source": [
    " "
   ]
  },
  {
   "cell_type": "markdown",
   "id": "7aff95b0",
   "metadata": {},
   "source": [
    "  "
   ]
  },
  {
   "cell_type": "markdown",
   "id": "2faacffe",
   "metadata": {},
   "source": [
    "# 3. Data Cleaning"
   ]
  },
  {
   "cell_type": "markdown",
   "id": "11127907",
   "metadata": {},
   "source": [
    "<font color = 'blue'> Remove any duplicate data"
   ]
  },
  {
   "cell_type": "code",
   "execution_count": 6,
   "id": "1455c25a",
   "metadata": {},
   "outputs": [
    {
     "name": "stdout",
     "output_type": "stream",
     "text": [
      "(569, 11)\n"
     ]
    }
   ],
   "source": [
    "initial_df = initial_df.drop_duplicates()       # 13 duplicates removed, from 582, now become 569 records.\n",
    "print(initial_df.shape )"
   ]
  },
  {
   "cell_type": "markdown",
   "id": "bde8c2de",
   "metadata": {},
   "source": [
    " "
   ]
  },
  {
   "cell_type": "markdown",
   "id": "ca2d848c",
   "metadata": {},
   "source": [
    "<font color = 'blue'> Checking for empty data cells, remove rows (if any)."
   ]
  },
  {
   "cell_type": "code",
   "execution_count": 7,
   "id": "0d924aa5",
   "metadata": {},
   "outputs": [
    {
     "name": "stdout",
     "output_type": "stream",
     "text": [
      "Age              0\n",
      "Gender           0\n",
      "TB               0\n",
      "DB               0\n",
      "Alkphos          0\n",
      "Sgpt             0\n",
      "Sgot             0\n",
      "TP               0\n",
      "ALB              0\n",
      "AG_Ratio         4\n",
      "Liver_Disease    0\n",
      "dtype: int64\n"
     ]
    }
   ],
   "source": [
    "print(initial_df.isnull().sum())"
   ]
  },
  {
   "cell_type": "code",
   "execution_count": 8,
   "id": "e7a4aea6",
   "metadata": {},
   "outputs": [],
   "source": [
    "initial_df = initial_df.dropna()"
   ]
  },
  {
   "cell_type": "code",
   "execution_count": 9,
   "id": "d0cf5c2b",
   "metadata": {},
   "outputs": [
    {
     "name": "stdout",
     "output_type": "stream",
     "text": [
      "Age              0\n",
      "Gender           0\n",
      "TB               0\n",
      "DB               0\n",
      "Alkphos          0\n",
      "Sgpt             0\n",
      "Sgot             0\n",
      "TP               0\n",
      "ALB              0\n",
      "AG_Ratio         0\n",
      "Liver_Disease    0\n",
      "dtype: int64\n"
     ]
    }
   ],
   "source": [
    "print(initial_df.isnull().sum())"
   ]
  },
  {
   "cell_type": "markdown",
   "id": "d129b39d",
   "metadata": {},
   "source": [
    " "
   ]
  },
  {
   "cell_type": "markdown",
   "id": "8a64f900",
   "metadata": {},
   "source": [
    " <font color = 'blue'>Change column \"Liver Disease\" data, from original '2' into '0'."
   ]
  },
  {
   "cell_type": "code",
   "execution_count": 10,
   "id": "1e425517",
   "metadata": {},
   "outputs": [],
   "source": [
    "for i in range(565):\n",
    "    if initial_df.iloc[i,10]==2:        # No Liver Disease = 0 (With Liver Disease = 1)\n",
    "        initial_df.iloc[i,10]=0"
   ]
  },
  {
   "cell_type": "code",
   "execution_count": 11,
   "id": "881fa135",
   "metadata": {},
   "outputs": [
    {
     "data": {
      "text/html": [
       "<div>\n",
       "<style scoped>\n",
       "    .dataframe tbody tr th:only-of-type {\n",
       "        vertical-align: middle;\n",
       "    }\n",
       "\n",
       "    .dataframe tbody tr th {\n",
       "        vertical-align: top;\n",
       "    }\n",
       "\n",
       "    .dataframe thead th {\n",
       "        text-align: right;\n",
       "    }\n",
       "</style>\n",
       "<table border=\"1\" class=\"dataframe\">\n",
       "  <thead>\n",
       "    <tr style=\"text-align: right;\">\n",
       "      <th></th>\n",
       "      <th>Age</th>\n",
       "      <th>Gender</th>\n",
       "      <th>TB</th>\n",
       "      <th>DB</th>\n",
       "      <th>Alkphos</th>\n",
       "      <th>Sgpt</th>\n",
       "      <th>Sgot</th>\n",
       "      <th>TP</th>\n",
       "      <th>ALB</th>\n",
       "      <th>AG_Ratio</th>\n",
       "      <th>Liver_Disease</th>\n",
       "    </tr>\n",
       "  </thead>\n",
       "  <tbody>\n",
       "    <tr>\n",
       "      <th>56</th>\n",
       "      <td>48</td>\n",
       "      <td>Female</td>\n",
       "      <td>0.9</td>\n",
       "      <td>0.2</td>\n",
       "      <td>175</td>\n",
       "      <td>24</td>\n",
       "      <td>54</td>\n",
       "      <td>5.5</td>\n",
       "      <td>2.7</td>\n",
       "      <td>0.90</td>\n",
       "      <td>0</td>\n",
       "    </tr>\n",
       "    <tr>\n",
       "      <th>496</th>\n",
       "      <td>67</td>\n",
       "      <td>Male</td>\n",
       "      <td>2.2</td>\n",
       "      <td>1.1</td>\n",
       "      <td>198</td>\n",
       "      <td>42</td>\n",
       "      <td>39</td>\n",
       "      <td>7.2</td>\n",
       "      <td>3.0</td>\n",
       "      <td>0.70</td>\n",
       "      <td>1</td>\n",
       "    </tr>\n",
       "    <tr>\n",
       "      <th>318</th>\n",
       "      <td>14</td>\n",
       "      <td>Male</td>\n",
       "      <td>0.9</td>\n",
       "      <td>0.3</td>\n",
       "      <td>310</td>\n",
       "      <td>21</td>\n",
       "      <td>16</td>\n",
       "      <td>8.1</td>\n",
       "      <td>4.2</td>\n",
       "      <td>1.00</td>\n",
       "      <td>0</td>\n",
       "    </tr>\n",
       "    <tr>\n",
       "      <th>23</th>\n",
       "      <td>63</td>\n",
       "      <td>Male</td>\n",
       "      <td>0.9</td>\n",
       "      <td>0.2</td>\n",
       "      <td>194</td>\n",
       "      <td>52</td>\n",
       "      <td>45</td>\n",
       "      <td>6.0</td>\n",
       "      <td>3.9</td>\n",
       "      <td>1.85</td>\n",
       "      <td>0</td>\n",
       "    </tr>\n",
       "    <tr>\n",
       "      <th>409</th>\n",
       "      <td>18</td>\n",
       "      <td>Male</td>\n",
       "      <td>1.4</td>\n",
       "      <td>0.6</td>\n",
       "      <td>215</td>\n",
       "      <td>440</td>\n",
       "      <td>850</td>\n",
       "      <td>5.0</td>\n",
       "      <td>1.9</td>\n",
       "      <td>0.60</td>\n",
       "      <td>1</td>\n",
       "    </tr>\n",
       "  </tbody>\n",
       "</table>\n",
       "</div>"
      ],
      "text/plain": [
       "     Age  Gender   TB   DB  Alkphos  Sgpt  Sgot   TP  ALB  AG_Ratio  \\\n",
       "56    48  Female  0.9  0.2      175    24    54  5.5  2.7      0.90   \n",
       "496   67    Male  2.2  1.1      198    42    39  7.2  3.0      0.70   \n",
       "318   14    Male  0.9  0.3      310    21    16  8.1  4.2      1.00   \n",
       "23    63    Male  0.9  0.2      194    52    45  6.0  3.9      1.85   \n",
       "409   18    Male  1.4  0.6      215   440   850  5.0  1.9      0.60   \n",
       "\n",
       "     Liver_Disease  \n",
       "56               0  \n",
       "496              1  \n",
       "318              0  \n",
       "23               0  \n",
       "409              1  "
      ]
     },
     "execution_count": 11,
     "metadata": {},
     "output_type": "execute_result"
    }
   ],
   "source": [
    "initial_df.sample(5)"
   ]
  },
  {
   "cell_type": "markdown",
   "id": "1b149521",
   "metadata": {},
   "source": [
    " "
   ]
  },
  {
   "cell_type": "markdown",
   "id": "1739ab4f",
   "metadata": {},
   "source": [
    "<font color = 'blue'>Change column \"Gender\", from original \"Male\" / \"Female\" into numericals \"0\" /  \"1\"."
   ]
  },
  {
   "cell_type": "code",
   "execution_count": 12,
   "id": "b18aef44",
   "metadata": {},
   "outputs": [],
   "source": [
    "for i in range(565):\n",
    "    if initial_df.iloc[i,1]=='Male':    #Set 'Male' = 0\n",
    "        initial_df.iloc[i,1]=0\n",
    "    else:\n",
    "        initial_df.iloc[i,1]=1          #Set 'Female' = 1\n",
    "initial_df = initial_df.astype({\"Gender\":'int64'}) "
   ]
  },
  {
   "cell_type": "code",
   "execution_count": 13,
   "id": "d35fbbe4",
   "metadata": {},
   "outputs": [
    {
     "data": {
      "text/html": [
       "<div>\n",
       "<style scoped>\n",
       "    .dataframe tbody tr th:only-of-type {\n",
       "        vertical-align: middle;\n",
       "    }\n",
       "\n",
       "    .dataframe tbody tr th {\n",
       "        vertical-align: top;\n",
       "    }\n",
       "\n",
       "    .dataframe thead th {\n",
       "        text-align: right;\n",
       "    }\n",
       "</style>\n",
       "<table border=\"1\" class=\"dataframe\">\n",
       "  <thead>\n",
       "    <tr style=\"text-align: right;\">\n",
       "      <th></th>\n",
       "      <th>Age</th>\n",
       "      <th>Gender</th>\n",
       "      <th>TB</th>\n",
       "      <th>DB</th>\n",
       "      <th>Alkphos</th>\n",
       "      <th>Sgpt</th>\n",
       "      <th>Sgot</th>\n",
       "      <th>TP</th>\n",
       "      <th>ALB</th>\n",
       "      <th>AG_Ratio</th>\n",
       "      <th>Liver_Disease</th>\n",
       "    </tr>\n",
       "  </thead>\n",
       "  <tbody>\n",
       "    <tr>\n",
       "      <th>146</th>\n",
       "      <td>65</td>\n",
       "      <td>0</td>\n",
       "      <td>0.7</td>\n",
       "      <td>0.1</td>\n",
       "      <td>392</td>\n",
       "      <td>20</td>\n",
       "      <td>30</td>\n",
       "      <td>5.3</td>\n",
       "      <td>2.8</td>\n",
       "      <td>1.1</td>\n",
       "      <td>1</td>\n",
       "    </tr>\n",
       "    <tr>\n",
       "      <th>406</th>\n",
       "      <td>12</td>\n",
       "      <td>0</td>\n",
       "      <td>1.0</td>\n",
       "      <td>0.2</td>\n",
       "      <td>719</td>\n",
       "      <td>157</td>\n",
       "      <td>108</td>\n",
       "      <td>7.2</td>\n",
       "      <td>3.7</td>\n",
       "      <td>1.0</td>\n",
       "      <td>1</td>\n",
       "    </tr>\n",
       "    <tr>\n",
       "      <th>375</th>\n",
       "      <td>33</td>\n",
       "      <td>0</td>\n",
       "      <td>0.7</td>\n",
       "      <td>0.1</td>\n",
       "      <td>168</td>\n",
       "      <td>35</td>\n",
       "      <td>33</td>\n",
       "      <td>7.0</td>\n",
       "      <td>3.7</td>\n",
       "      <td>1.1</td>\n",
       "      <td>1</td>\n",
       "    </tr>\n",
       "    <tr>\n",
       "      <th>462</th>\n",
       "      <td>25</td>\n",
       "      <td>0</td>\n",
       "      <td>0.8</td>\n",
       "      <td>0.1</td>\n",
       "      <td>130</td>\n",
       "      <td>23</td>\n",
       "      <td>42</td>\n",
       "      <td>8.0</td>\n",
       "      <td>4.0</td>\n",
       "      <td>1.0</td>\n",
       "      <td>1</td>\n",
       "    </tr>\n",
       "    <tr>\n",
       "      <th>241</th>\n",
       "      <td>29</td>\n",
       "      <td>1</td>\n",
       "      <td>0.8</td>\n",
       "      <td>0.2</td>\n",
       "      <td>205</td>\n",
       "      <td>30</td>\n",
       "      <td>23</td>\n",
       "      <td>8.2</td>\n",
       "      <td>4.1</td>\n",
       "      <td>1.0</td>\n",
       "      <td>1</td>\n",
       "    </tr>\n",
       "  </tbody>\n",
       "</table>\n",
       "</div>"
      ],
      "text/plain": [
       "     Age  Gender   TB   DB  Alkphos  Sgpt  Sgot   TP  ALB  AG_Ratio  \\\n",
       "146   65       0  0.7  0.1      392    20    30  5.3  2.8       1.1   \n",
       "406   12       0  1.0  0.2      719   157   108  7.2  3.7       1.0   \n",
       "375   33       0  0.7  0.1      168    35    33  7.0  3.7       1.1   \n",
       "462   25       0  0.8  0.1      130    23    42  8.0  4.0       1.0   \n",
       "241   29       1  0.8  0.2      205    30    23  8.2  4.1       1.0   \n",
       "\n",
       "     Liver_Disease  \n",
       "146              1  \n",
       "406              1  \n",
       "375              1  \n",
       "462              1  \n",
       "241              1  "
      ]
     },
     "execution_count": 13,
     "metadata": {},
     "output_type": "execute_result"
    }
   ],
   "source": [
    "initial_df.sample(5)"
   ]
  },
  {
   "cell_type": "markdown",
   "id": "cad6a283",
   "metadata": {},
   "source": [
    " "
   ]
  },
  {
   "cell_type": "markdown",
   "id": "e8a24e93",
   "metadata": {},
   "source": [
    "<font color = 'blue'> Dataset final check - after Data Cleaning"
   ]
  },
  {
   "cell_type": "code",
   "execution_count": 14,
   "id": "3d2c6023",
   "metadata": {},
   "outputs": [
    {
     "name": "stdout",
     "output_type": "stream",
     "text": [
      "<class 'pandas.core.frame.DataFrame'>\n",
      "Int64Index: 565 entries, 0 to 581\n",
      "Data columns (total 11 columns):\n",
      " #   Column         Non-Null Count  Dtype  \n",
      "---  ------         --------------  -----  \n",
      " 0   Age            565 non-null    int64  \n",
      " 1   Gender         565 non-null    int64  \n",
      " 2   TB             565 non-null    float64\n",
      " 3   DB             565 non-null    float64\n",
      " 4   Alkphos        565 non-null    int64  \n",
      " 5   Sgpt           565 non-null    int64  \n",
      " 6   Sgot           565 non-null    int64  \n",
      " 7   TP             565 non-null    float64\n",
      " 8   ALB            565 non-null    float64\n",
      " 9   AG_Ratio       565 non-null    float64\n",
      " 10  Liver_Disease  565 non-null    int64  \n",
      "dtypes: float64(5), int64(6)\n",
      "memory usage: 53.0 KB\n",
      "\n",
      "\n",
      "Total Positive records: 403\n",
      "Total Negative records: 162\n"
     ]
    },
    {
     "data": {
      "text/html": [
       "<div>\n",
       "<style scoped>\n",
       "    .dataframe tbody tr th:only-of-type {\n",
       "        vertical-align: middle;\n",
       "    }\n",
       "\n",
       "    .dataframe tbody tr th {\n",
       "        vertical-align: top;\n",
       "    }\n",
       "\n",
       "    .dataframe thead th {\n",
       "        text-align: right;\n",
       "    }\n",
       "</style>\n",
       "<table border=\"1\" class=\"dataframe\">\n",
       "  <thead>\n",
       "    <tr style=\"text-align: right;\">\n",
       "      <th></th>\n",
       "      <th>Age</th>\n",
       "      <th>Gender</th>\n",
       "      <th>TB</th>\n",
       "      <th>DB</th>\n",
       "      <th>Alkphos</th>\n",
       "      <th>Sgpt</th>\n",
       "      <th>Sgot</th>\n",
       "      <th>TP</th>\n",
       "      <th>ALB</th>\n",
       "      <th>AG_Ratio</th>\n",
       "      <th>Liver_Disease</th>\n",
       "    </tr>\n",
       "  </thead>\n",
       "  <tbody>\n",
       "    <tr>\n",
       "      <th>357</th>\n",
       "      <td>37</td>\n",
       "      <td>0</td>\n",
       "      <td>0.7</td>\n",
       "      <td>0.2</td>\n",
       "      <td>176</td>\n",
       "      <td>28</td>\n",
       "      <td>34</td>\n",
       "      <td>5.6</td>\n",
       "      <td>2.6</td>\n",
       "      <td>0.80</td>\n",
       "      <td>1</td>\n",
       "    </tr>\n",
       "    <tr>\n",
       "      <th>489</th>\n",
       "      <td>53</td>\n",
       "      <td>1</td>\n",
       "      <td>0.8</td>\n",
       "      <td>0.2</td>\n",
       "      <td>193</td>\n",
       "      <td>96</td>\n",
       "      <td>57</td>\n",
       "      <td>6.7</td>\n",
       "      <td>3.6</td>\n",
       "      <td>1.16</td>\n",
       "      <td>1</td>\n",
       "    </tr>\n",
       "    <tr>\n",
       "      <th>476</th>\n",
       "      <td>55</td>\n",
       "      <td>0</td>\n",
       "      <td>0.6</td>\n",
       "      <td>0.2</td>\n",
       "      <td>220</td>\n",
       "      <td>24</td>\n",
       "      <td>32</td>\n",
       "      <td>5.1</td>\n",
       "      <td>2.4</td>\n",
       "      <td>0.88</td>\n",
       "      <td>1</td>\n",
       "    </tr>\n",
       "    <tr>\n",
       "      <th>221</th>\n",
       "      <td>47</td>\n",
       "      <td>0</td>\n",
       "      <td>0.9</td>\n",
       "      <td>0.2</td>\n",
       "      <td>265</td>\n",
       "      <td>40</td>\n",
       "      <td>28</td>\n",
       "      <td>8.0</td>\n",
       "      <td>4.0</td>\n",
       "      <td>1.00</td>\n",
       "      <td>1</td>\n",
       "    </tr>\n",
       "    <tr>\n",
       "      <th>519</th>\n",
       "      <td>62</td>\n",
       "      <td>0</td>\n",
       "      <td>1.8</td>\n",
       "      <td>0.9</td>\n",
       "      <td>224</td>\n",
       "      <td>69</td>\n",
       "      <td>155</td>\n",
       "      <td>8.6</td>\n",
       "      <td>4.0</td>\n",
       "      <td>0.80</td>\n",
       "      <td>1</td>\n",
       "    </tr>\n",
       "  </tbody>\n",
       "</table>\n",
       "</div>"
      ],
      "text/plain": [
       "     Age  Gender   TB   DB  Alkphos  Sgpt  Sgot   TP  ALB  AG_Ratio  \\\n",
       "357   37       0  0.7  0.2      176    28    34  5.6  2.6      0.80   \n",
       "489   53       1  0.8  0.2      193    96    57  6.7  3.6      1.16   \n",
       "476   55       0  0.6  0.2      220    24    32  5.1  2.4      0.88   \n",
       "221   47       0  0.9  0.2      265    40    28  8.0  4.0      1.00   \n",
       "519   62       0  1.8  0.9      224    69   155  8.6  4.0      0.80   \n",
       "\n",
       "     Liver_Disease  \n",
       "357              1  \n",
       "489              1  \n",
       "476              1  \n",
       "221              1  \n",
       "519              1  "
      ]
     },
     "execution_count": 14,
     "metadata": {},
     "output_type": "execute_result"
    }
   ],
   "source": [
    "initial_df.info()\n",
    "print(\"\\n\")\n",
    "#Determining the healthy-affected split\n",
    "print(\"Total Positive records:\", initial_df['Liver_Disease'].value_counts().iloc[0])\n",
    "print(\"Total Negative records:\", initial_df['Liver_Disease'].value_counts().iloc[1])\n",
    "initial_df.sample(5)"
   ]
  },
  {
   "cell_type": "markdown",
   "id": "8cd3e677",
   "metadata": {},
   "source": [
    " "
   ]
  },
  {
   "cell_type": "markdown",
   "id": "508cb0d2",
   "metadata": {},
   "source": [
    " "
   ]
  },
  {
   "cell_type": "markdown",
   "id": "56ee5b53",
   "metadata": {},
   "source": [
    "# 4. Dataset Visualization"
   ]
  },
  {
   "cell_type": "code",
   "execution_count": 15,
   "id": "dc9b1a63",
   "metadata": {
    "scrolled": true
   },
   "outputs": [
    {
     "data": {
      "text/html": [
       "<div>\n",
       "<style scoped>\n",
       "    .dataframe tbody tr th:only-of-type {\n",
       "        vertical-align: middle;\n",
       "    }\n",
       "\n",
       "    .dataframe tbody tr th {\n",
       "        vertical-align: top;\n",
       "    }\n",
       "\n",
       "    .dataframe thead th {\n",
       "        text-align: right;\n",
       "    }\n",
       "</style>\n",
       "<table border=\"1\" class=\"dataframe\">\n",
       "  <thead>\n",
       "    <tr style=\"text-align: right;\">\n",
       "      <th></th>\n",
       "      <th>Age</th>\n",
       "      <th>Gender</th>\n",
       "      <th>TB</th>\n",
       "      <th>DB</th>\n",
       "      <th>Alkphos</th>\n",
       "      <th>Sgpt</th>\n",
       "      <th>Sgot</th>\n",
       "      <th>TP</th>\n",
       "      <th>ALB</th>\n",
       "      <th>AG_Ratio</th>\n",
       "      <th>Liver_Disease</th>\n",
       "    </tr>\n",
       "  </thead>\n",
       "  <tbody>\n",
       "    <tr>\n",
       "      <th>count</th>\n",
       "      <td>565.000000</td>\n",
       "      <td>565.000000</td>\n",
       "      <td>565.000000</td>\n",
       "      <td>565.000000</td>\n",
       "      <td>565.000000</td>\n",
       "      <td>565.000000</td>\n",
       "      <td>565.000000</td>\n",
       "      <td>565.000000</td>\n",
       "      <td>565.000000</td>\n",
       "      <td>565.000000</td>\n",
       "      <td>565.000000</td>\n",
       "    </tr>\n",
       "    <tr>\n",
       "      <th>mean</th>\n",
       "      <td>44.851327</td>\n",
       "      <td>0.242478</td>\n",
       "      <td>3.343540</td>\n",
       "      <td>1.508319</td>\n",
       "      <td>292.753982</td>\n",
       "      <td>80.256637</td>\n",
       "      <td>110.054867</td>\n",
       "      <td>6.494336</td>\n",
       "      <td>3.145310</td>\n",
       "      <td>0.948088</td>\n",
       "      <td>0.713274</td>\n",
       "    </tr>\n",
       "    <tr>\n",
       "      <th>std</th>\n",
       "      <td>16.267245</td>\n",
       "      <td>0.428962</td>\n",
       "      <td>6.291316</td>\n",
       "      <td>2.843386</td>\n",
       "      <td>246.114280</td>\n",
       "      <td>182.186142</td>\n",
       "      <td>292.074833</td>\n",
       "      <td>1.088399</td>\n",
       "      <td>0.796424</td>\n",
       "      <td>0.319912</td>\n",
       "      <td>0.452633</td>\n",
       "    </tr>\n",
       "    <tr>\n",
       "      <th>min</th>\n",
       "      <td>4.000000</td>\n",
       "      <td>0.000000</td>\n",
       "      <td>0.400000</td>\n",
       "      <td>0.100000</td>\n",
       "      <td>63.000000</td>\n",
       "      <td>10.000000</td>\n",
       "      <td>10.000000</td>\n",
       "      <td>2.700000</td>\n",
       "      <td>0.900000</td>\n",
       "      <td>0.300000</td>\n",
       "      <td>0.000000</td>\n",
       "    </tr>\n",
       "    <tr>\n",
       "      <th>25%</th>\n",
       "      <td>33.000000</td>\n",
       "      <td>0.000000</td>\n",
       "      <td>0.800000</td>\n",
       "      <td>0.200000</td>\n",
       "      <td>176.000000</td>\n",
       "      <td>23.000000</td>\n",
       "      <td>25.000000</td>\n",
       "      <td>5.800000</td>\n",
       "      <td>2.600000</td>\n",
       "      <td>0.700000</td>\n",
       "      <td>0.000000</td>\n",
       "    </tr>\n",
       "    <tr>\n",
       "      <th>50%</th>\n",
       "      <td>45.000000</td>\n",
       "      <td>0.000000</td>\n",
       "      <td>1.000000</td>\n",
       "      <td>0.300000</td>\n",
       "      <td>208.000000</td>\n",
       "      <td>35.000000</td>\n",
       "      <td>41.000000</td>\n",
       "      <td>6.600000</td>\n",
       "      <td>3.100000</td>\n",
       "      <td>0.950000</td>\n",
       "      <td>1.000000</td>\n",
       "    </tr>\n",
       "    <tr>\n",
       "      <th>75%</th>\n",
       "      <td>58.000000</td>\n",
       "      <td>0.000000</td>\n",
       "      <td>2.600000</td>\n",
       "      <td>1.300000</td>\n",
       "      <td>298.000000</td>\n",
       "      <td>61.000000</td>\n",
       "      <td>87.000000</td>\n",
       "      <td>7.200000</td>\n",
       "      <td>3.800000</td>\n",
       "      <td>1.100000</td>\n",
       "      <td>1.000000</td>\n",
       "    </tr>\n",
       "    <tr>\n",
       "      <th>max</th>\n",
       "      <td>90.000000</td>\n",
       "      <td>1.000000</td>\n",
       "      <td>75.000000</td>\n",
       "      <td>19.700000</td>\n",
       "      <td>2110.000000</td>\n",
       "      <td>2000.000000</td>\n",
       "      <td>4929.000000</td>\n",
       "      <td>9.600000</td>\n",
       "      <td>5.500000</td>\n",
       "      <td>2.800000</td>\n",
       "      <td>1.000000</td>\n",
       "    </tr>\n",
       "  </tbody>\n",
       "</table>\n",
       "</div>"
      ],
      "text/plain": [
       "              Age      Gender          TB          DB      Alkphos  \\\n",
       "count  565.000000  565.000000  565.000000  565.000000   565.000000   \n",
       "mean    44.851327    0.242478    3.343540    1.508319   292.753982   \n",
       "std     16.267245    0.428962    6.291316    2.843386   246.114280   \n",
       "min      4.000000    0.000000    0.400000    0.100000    63.000000   \n",
       "25%     33.000000    0.000000    0.800000    0.200000   176.000000   \n",
       "50%     45.000000    0.000000    1.000000    0.300000   208.000000   \n",
       "75%     58.000000    0.000000    2.600000    1.300000   298.000000   \n",
       "max     90.000000    1.000000   75.000000   19.700000  2110.000000   \n",
       "\n",
       "              Sgpt         Sgot          TP         ALB    AG_Ratio  \\\n",
       "count   565.000000   565.000000  565.000000  565.000000  565.000000   \n",
       "mean     80.256637   110.054867    6.494336    3.145310    0.948088   \n",
       "std     182.186142   292.074833    1.088399    0.796424    0.319912   \n",
       "min      10.000000    10.000000    2.700000    0.900000    0.300000   \n",
       "25%      23.000000    25.000000    5.800000    2.600000    0.700000   \n",
       "50%      35.000000    41.000000    6.600000    3.100000    0.950000   \n",
       "75%      61.000000    87.000000    7.200000    3.800000    1.100000   \n",
       "max    2000.000000  4929.000000    9.600000    5.500000    2.800000   \n",
       "\n",
       "       Liver_Disease  \n",
       "count     565.000000  \n",
       "mean        0.713274  \n",
       "std         0.452633  \n",
       "min         0.000000  \n",
       "25%         0.000000  \n",
       "50%         1.000000  \n",
       "75%         1.000000  \n",
       "max         1.000000  "
      ]
     },
     "execution_count": 15,
     "metadata": {},
     "output_type": "execute_result"
    }
   ],
   "source": [
    "initial_df.describe()           # describe method to view the dataset"
   ]
  },
  {
   "cell_type": "code",
   "execution_count": 16,
   "id": "24e7fdb0",
   "metadata": {},
   "outputs": [],
   "source": [
    "features_histogram = initial_df[[\"Age\", \"TB\", \"DB\", \"Alkphos\", \"Sgpt\", \"Sgot\", \"TP\", \"ALB\", \"AG_Ratio\"]]    "
   ]
  },
  {
   "cell_type": "code",
   "execution_count": 17,
   "id": "cbe323fb",
   "metadata": {},
   "outputs": [
    {
     "data": {
      "image/png": "[encoded data removed]",
      "text/plain": [
       "<Figure size 1000x900 with 9 Axes>"
      ]
     },
     "metadata": {},
     "output_type": "display_data"
    }
   ],
   "source": [
    "# Plot histogram grid\n",
    "features_histogram.hist(figsize=(10,9), xrot=-45, bins=15) ## Display the labels rotated by 45 degress\n",
    "\n",
    "# Clear the text \"residue\"\n",
    "plt.show()"
   ]
  },
  {
   "cell_type": "markdown",
   "id": "f8717b53",
   "metadata": {},
   "source": [
    "  "
   ]
  },
  {
   "cell_type": "markdown",
   "id": "b864da54",
   "metadata": {},
   "source": [
    " "
   ]
  },
  {
   "cell_type": "markdown",
   "id": "22ffe6ff",
   "metadata": {},
   "source": [
    "<font color = \"blue\"> An example to remove outliner \"Sgot\""
   ]
  },
  {
   "cell_type": "code",
   "execution_count": 18,
   "id": "0616d651",
   "metadata": {},
   "outputs": [
    {
     "data": {
      "text/plain": [
       "<Axes: xlabel='Sgot', ylabel='Density'>"
      ]
     },
     "execution_count": 18,
     "metadata": {},
     "output_type": "execute_result"
    },
    {
     "data": {
      "image/png": "[encoded data removed]",
      "text/plain": [
       "<Figure size 640x480 with 1 Axes>"
      ]
     },
     "metadata": {},
     "output_type": "display_data"
    }
   ],
   "source": [
    "sns.distplot(initial_df['Sgot'])"
   ]
  },
  {
   "cell_type": "code",
   "execution_count": 19,
   "id": "bb4fdd82",
   "metadata": {},
   "outputs": [
    {
     "data": {
      "text/plain": [
       "<Axes: >"
      ]
     },
     "execution_count": 19,
     "metadata": {},
     "output_type": "execute_result"
    },
    {
     "data": {
      "image/png": "[encoded data removed]",
      "text/plain": [
       "<Figure size 640x480 with 1 Axes>"
      ]
     },
     "metadata": {},
     "output_type": "display_data"
    }
   ],
   "source": [
    "sns.boxplot(initial_df.Sgot, orient='h')"
   ]
  },
  {
   "cell_type": "code",
   "execution_count": 20,
   "id": "8a39d7cf",
   "metadata": {},
   "outputs": [
    {
     "data": {
      "text/plain": [
       "134    4929\n",
       "116    2946\n",
       "117    1600\n",
       "206    1500\n",
       "118    1050\n",
       "Name: Sgot, dtype: int64"
      ]
     },
     "execution_count": 20,
     "metadata": {},
     "output_type": "execute_result"
    }
   ],
   "source": [
    "#initial_df.TB.sort_values(ascending=False).head()\n",
    "#initial_df.DB.sort_values(ascending=False).head()\n",
    "#initial_df.Alkphos.sort_values(ascending=False).head()\n",
    "#initial_df.Sgpt.sort_values(ascending=False).head()\n",
    "initial_df.Sgot.sort_values(ascending=False).head()              # sort in descending order\n",
    "#initial_df.AG_Ratio.sort_values(ascending=False).head()"
   ]
  },
  {
   "cell_type": "code",
   "execution_count": 21,
   "id": "816a5b02",
   "metadata": {},
   "outputs": [
    {
     "data": {
      "text/plain": [
       "(553, 11)"
      ]
     },
     "execution_count": 21,
     "metadata": {},
     "output_type": "execute_result"
    }
   ],
   "source": [
    "#Remove outliners in TB, DB, Alkphos, Sgpt and Sgot columns.\n",
    "initial_df = initial_df[initial_df.TB <=70 ]\n",
    "initial_df = initial_df[initial_df.DB <=17.0 ]\n",
    "initial_df = initial_df[initial_df.Alkphos <=1700 ]\n",
    "initial_df = initial_df[initial_df.Sgpt <=1900 ]\n",
    "initial_df = initial_df[initial_df.Sgot <=3000 ]\n",
    "initial_df = initial_df[initial_df.AG_Ratio <=2.0 ]\n",
    "initial_df.shape"
   ]
  },
  {
   "cell_type": "markdown",
   "id": "e773c3a7",
   "metadata": {},
   "source": [
    " "
   ]
  },
  {
   "cell_type": "markdown",
   "id": "12c9d556",
   "metadata": {},
   "source": [
    " "
   ]
  },
  {
   "cell_type": "code",
   "execution_count": 22,
   "id": "1175e02b",
   "metadata": {},
   "outputs": [
    {
     "data": {
      "text/html": [
       "<div>\n",
       "<style scoped>\n",
       "    .dataframe tbody tr th:only-of-type {\n",
       "        vertical-align: middle;\n",
       "    }\n",
       "\n",
       "    .dataframe tbody tr th {\n",
       "        vertical-align: top;\n",
       "    }\n",
       "\n",
       "    .dataframe thead th {\n",
       "        text-align: right;\n",
       "    }\n",
       "</style>\n",
       "<table border=\"1\" class=\"dataframe\">\n",
       "  <thead>\n",
       "    <tr style=\"text-align: right;\">\n",
       "      <th></th>\n",
       "      <th>Age</th>\n",
       "      <th>Gender</th>\n",
       "      <th>TB</th>\n",
       "      <th>DB</th>\n",
       "      <th>Alkphos</th>\n",
       "      <th>Sgpt</th>\n",
       "      <th>Sgot</th>\n",
       "      <th>TP</th>\n",
       "      <th>ALB</th>\n",
       "      <th>AG_Ratio</th>\n",
       "      <th>Liver_Disease</th>\n",
       "    </tr>\n",
       "  </thead>\n",
       "  <tbody>\n",
       "    <tr>\n",
       "      <th>Age</th>\n",
       "      <td>1.000000</td>\n",
       "      <td>-0.067072</td>\n",
       "      <td>0.037126</td>\n",
       "      <td>0.048081</td>\n",
       "      <td>0.065373</td>\n",
       "      <td>-0.100109</td>\n",
       "      <td>-0.070037</td>\n",
       "      <td>-0.199515</td>\n",
       "      <td>-0.270669</td>\n",
       "      <td>-0.214096</td>\n",
       "      <td>0.135699</td>\n",
       "    </tr>\n",
       "    <tr>\n",
       "      <th>Gender</th>\n",
       "      <td>-0.067072</td>\n",
       "      <td>1.000000</td>\n",
       "      <td>-0.067126</td>\n",
       "      <td>-0.078979</td>\n",
       "      <td>0.026681</td>\n",
       "      <td>-0.077493</td>\n",
       "      <td>-0.089638</td>\n",
       "      <td>0.088824</td>\n",
       "      <td>0.085768</td>\n",
       "      <td>0.017396</td>\n",
       "      <td>-0.075281</td>\n",
       "    </tr>\n",
       "    <tr>\n",
       "      <th>TB</th>\n",
       "      <td>0.037126</td>\n",
       "      <td>-0.067126</td>\n",
       "      <td>1.000000</td>\n",
       "      <td>0.975993</td>\n",
       "      <td>0.295232</td>\n",
       "      <td>0.273785</td>\n",
       "      <td>0.381139</td>\n",
       "      <td>-0.027582</td>\n",
       "      <td>-0.245058</td>\n",
       "      <td>-0.310572</td>\n",
       "      <td>0.241329</td>\n",
       "    </tr>\n",
       "    <tr>\n",
       "      <th>DB</th>\n",
       "      <td>0.048081</td>\n",
       "      <td>-0.078979</td>\n",
       "      <td>0.975993</td>\n",
       "      <td>1.000000</td>\n",
       "      <td>0.301730</td>\n",
       "      <td>0.259352</td>\n",
       "      <td>0.356325</td>\n",
       "      <td>-0.024643</td>\n",
       "      <td>-0.240293</td>\n",
       "      <td>-0.311973</td>\n",
       "      <td>0.252482</td>\n",
       "    </tr>\n",
       "    <tr>\n",
       "      <th>Alkphos</th>\n",
       "      <td>0.065373</td>\n",
       "      <td>0.026681</td>\n",
       "      <td>0.295232</td>\n",
       "      <td>0.301730</td>\n",
       "      <td>1.000000</td>\n",
       "      <td>0.131513</td>\n",
       "      <td>0.148598</td>\n",
       "      <td>-0.045527</td>\n",
       "      <td>-0.176350</td>\n",
       "      <td>-0.267514</td>\n",
       "      <td>0.186877</td>\n",
       "    </tr>\n",
       "    <tr>\n",
       "      <th>Sgpt</th>\n",
       "      <td>-0.100109</td>\n",
       "      <td>-0.077493</td>\n",
       "      <td>0.273785</td>\n",
       "      <td>0.259352</td>\n",
       "      <td>0.131513</td>\n",
       "      <td>1.000000</td>\n",
       "      <td>0.836369</td>\n",
       "      <td>-0.031609</td>\n",
       "      <td>-0.023170</td>\n",
       "      <td>-0.009451</td>\n",
       "      <td>0.169088</td>\n",
       "    </tr>\n",
       "    <tr>\n",
       "      <th>Sgot</th>\n",
       "      <td>-0.070037</td>\n",
       "      <td>-0.089638</td>\n",
       "      <td>0.381139</td>\n",
       "      <td>0.356325</td>\n",
       "      <td>0.148598</td>\n",
       "      <td>0.836369</td>\n",
       "      <td>1.000000</td>\n",
       "      <td>-0.040539</td>\n",
       "      <td>-0.102279</td>\n",
       "      <td>-0.098949</td>\n",
       "      <td>0.206208</td>\n",
       "    </tr>\n",
       "    <tr>\n",
       "      <th>TP</th>\n",
       "      <td>-0.199515</td>\n",
       "      <td>0.088824</td>\n",
       "      <td>-0.027582</td>\n",
       "      <td>-0.024643</td>\n",
       "      <td>-0.045527</td>\n",
       "      <td>-0.031609</td>\n",
       "      <td>-0.040539</td>\n",
       "      <td>1.000000</td>\n",
       "      <td>0.797043</td>\n",
       "      <td>0.255180</td>\n",
       "      <td>-0.039351</td>\n",
       "    </tr>\n",
       "    <tr>\n",
       "      <th>ALB</th>\n",
       "      <td>-0.270669</td>\n",
       "      <td>0.085768</td>\n",
       "      <td>-0.245058</td>\n",
       "      <td>-0.240293</td>\n",
       "      <td>-0.176350</td>\n",
       "      <td>-0.023170</td>\n",
       "      <td>-0.102279</td>\n",
       "      <td>0.797043</td>\n",
       "      <td>1.000000</td>\n",
       "      <td>0.746257</td>\n",
       "      <td>-0.162555</td>\n",
       "    </tr>\n",
       "    <tr>\n",
       "      <th>AG_Ratio</th>\n",
       "      <td>-0.214096</td>\n",
       "      <td>0.017396</td>\n",
       "      <td>-0.310572</td>\n",
       "      <td>-0.311973</td>\n",
       "      <td>-0.267514</td>\n",
       "      <td>-0.009451</td>\n",
       "      <td>-0.098949</td>\n",
       "      <td>0.255180</td>\n",
       "      <td>0.746257</td>\n",
       "      <td>1.000000</td>\n",
       "      <td>-0.199968</td>\n",
       "    </tr>\n",
       "    <tr>\n",
       "      <th>Liver_Disease</th>\n",
       "      <td>0.135699</td>\n",
       "      <td>-0.075281</td>\n",
       "      <td>0.241329</td>\n",
       "      <td>0.252482</td>\n",
       "      <td>0.186877</td>\n",
       "      <td>0.169088</td>\n",
       "      <td>0.206208</td>\n",
       "      <td>-0.039351</td>\n",
       "      <td>-0.162555</td>\n",
       "      <td>-0.199968</td>\n",
       "      <td>1.000000</td>\n",
       "    </tr>\n",
       "  </tbody>\n",
       "</table>\n",
       "</div>"
      ],
      "text/plain": [
       "                    Age    Gender        TB        DB   Alkphos      Sgpt  \\\n",
       "Age            1.000000 -0.067072  0.037126  0.048081  0.065373 -0.100109   \n",
       "Gender        -0.067072  1.000000 -0.067126 -0.078979  0.026681 -0.077493   \n",
       "TB             0.037126 -0.067126  1.000000  0.975993  0.295232  0.273785   \n",
       "DB             0.048081 -0.078979  0.975993  1.000000  0.301730  0.259352   \n",
       "Alkphos        0.065373  0.026681  0.295232  0.301730  1.000000  0.131513   \n",
       "Sgpt          -0.100109 -0.077493  0.273785  0.259352  0.131513  1.000000   \n",
       "Sgot          -0.070037 -0.089638  0.381139  0.356325  0.148598  0.836369   \n",
       "TP            -0.199515  0.088824 -0.027582 -0.024643 -0.045527 -0.031609   \n",
       "ALB           -0.270669  0.085768 -0.245058 -0.240293 -0.176350 -0.023170   \n",
       "AG_Ratio      -0.214096  0.017396 -0.310572 -0.311973 -0.267514 -0.009451   \n",
       "Liver_Disease  0.135699 -0.075281  0.241329  0.252482  0.186877  0.169088   \n",
       "\n",
       "                   Sgot        TP       ALB  AG_Ratio  Liver_Disease  \n",
       "Age           -0.070037 -0.199515 -0.270669 -0.214096       0.135699  \n",
       "Gender        -0.089638  0.088824  0.085768  0.017396      -0.075281  \n",
       "TB             0.381139 -0.027582 -0.245058 -0.310572       0.241329  \n",
       "DB             0.356325 -0.024643 -0.240293 -0.311973       0.252482  \n",
       "Alkphos        0.148598 -0.045527 -0.176350 -0.267514       0.186877  \n",
       "Sgpt           0.836369 -0.031609 -0.023170 -0.009451       0.169088  \n",
       "Sgot           1.000000 -0.040539 -0.102279 -0.098949       0.206208  \n",
       "TP            -0.040539  1.000000  0.797043  0.255180      -0.039351  \n",
       "ALB           -0.102279  0.797043  1.000000  0.746257      -0.162555  \n",
       "AG_Ratio      -0.098949  0.255180  0.746257  1.000000      -0.199968  \n",
       "Liver_Disease  0.206208 -0.039351 -0.162555 -0.199968       1.000000  "
      ]
     },
     "execution_count": 22,
     "metadata": {},
     "output_type": "execute_result"
    }
   ],
   "source": [
    "initial_df.corr()"
   ]
  },
  {
   "cell_type": "code",
   "execution_count": 23,
   "id": "4580d7cf",
   "metadata": {},
   "outputs": [
    {
     "data": {
      "text/plain": [
       "<Axes: >"
      ]
     },
     "execution_count": 23,
     "metadata": {},
     "output_type": "execute_result"
    },
    {
     "data": {
      "image/png": "[encoded data removed]",
      "text/plain": [
       "<Figure size 1200x500 with 2 Axes>"
      ]
     },
     "metadata": {},
     "output_type": "display_data"
    }
   ],
   "source": [
    "# Plot the confusion matrix using Seaborn library\n",
    "plt.figure(figsize=(12,5))\n",
    "sns.heatmap(initial_df.corr(), annot=True, cmap='coolwarm')"
   ]
  },
  {
   "cell_type": "markdown",
   "id": "29b81058",
   "metadata": {},
   "source": [
    "<font color = 'blue' >Multicollinearity between : <br>\n",
    "<font color = 'blue' > - 'TB' and 'DB' is 0.98.   <br>\n",
    "<font color = 'blue' > - 'Sgpt' and 'Sgot' is 0.84.<br>\n",
    "<font color = 'blue' > - 'TP' and 'Albumin' is 0.80.<br>\n",
    "<font color = 'blue' > - 'ALB' and 'AG_Ratio' is 0.75.<br>"
   ]
  },
  {
   "cell_type": "markdown",
   "id": "d3ff721c",
   "metadata": {},
   "source": [
    " "
   ]
  },
  {
   "cell_type": "markdown",
   "id": "bb495479",
   "metadata": {},
   "source": [
    " <font color = 'blue'> Define the features and labels, drop DB."
   ]
  },
  {
   "cell_type": "code",
   "execution_count": 24,
   "id": "dc27de3b",
   "metadata": {},
   "outputs": [],
   "source": [
    "#features = initial_df[[\"Age\", \"Gender\", \"TB\", \"DB\", \"Alkphos\", \"Sgpt\", \"Sgot\", \"TP\", \"ALB\", \"A/G_Ratio\"]] \n",
    "features = initial_df[[\"Age\", \"Gender\", \"TB\", \"Alkphos\", \"Sgpt\", \"Sgot\", \"TP\", \"ALB\", \"AG_Ratio\"]] \n",
    "label = initial_df[\"Liver_Disease\"]"
   ]
  },
  {
   "cell_type": "markdown",
   "id": "940bf787",
   "metadata": {},
   "source": [
    " "
   ]
  },
  {
   "cell_type": "markdown",
   "id": "70ca7869",
   "metadata": {},
   "source": [
    " "
   ]
  },
  {
   "cell_type": "markdown",
   "id": "67c2c80c",
   "metadata": {},
   "source": [
    "# 5. Running the classifier"
   ]
  },
  {
   "cell_type": "markdown",
   "id": "2b9dce92",
   "metadata": {},
   "source": [
    "### Model-1 Random Forest"
   ]
  },
  {
   "cell_type": "code",
   "execution_count": 25,
   "id": "2e63d3ab",
   "metadata": {},
   "outputs": [
    {
     "name": "stdout",
     "output_type": "stream",
     "text": [
      "\n",
      "\n",
      "Random Forest Classification Report\n",
      "              precision    recall  f1-score   support\n",
      "\n",
      "           0       0.57      0.48      0.52        27\n",
      "           1       0.84      0.88      0.86        84\n",
      "\n",
      "    accuracy                           0.78       111\n",
      "   macro avg       0.70      0.68      0.69       111\n",
      "weighted avg       0.77      0.78      0.78       111\n",
      "\n"
     ]
    },
    {
     "data": {
      "text/plain": [
       "<sklearn.metrics._plot.confusion_matrix.ConfusionMatrixDisplay at 0x12f30a50b80>"
      ]
     },
     "execution_count": 25,
     "metadata": {},
     "output_type": "execute_result"
    },
    {
     "data": {
      "image/png": "[encoded data removed]",
      "text/plain": [
       "<Figure size 300x300 with 2 Axes>"
      ]
     },
     "metadata": {},
     "output_type": "display_data"
    }
   ],
   "source": [
    "# Split the Data\n",
    "X_train1, X_test1, y_train1, y_test1 = train_test_split(features, label, test_size=0.2, random_state = 3444)\n",
    "\n",
    "# Initialize and train the machine learning model\n",
    "RF = RandomForestClassifier()\n",
    "RF_model = RF.fit(X_train1,y_train1)\n",
    "\n",
    "# Predictions:\n",
    "y_pred1 = RF_model.predict(X_test1)\n",
    "#print(y_pred1)\n",
    "\n",
    "# Predict Test set Proba results\n",
    "y_proba1 = RF_model.predict_proba(X_test1)[:,1]\n",
    "#print(y_proba1)\n",
    "\n",
    "# Performance:\n",
    "#print('Accuracy is', round(accuracy_score(y_test,y_pred),3))\n",
    "#print(\"\\n\")\n",
    "\n",
    "# Display Classification Report\n",
    "print(\"\\n\")\n",
    "print(\"Random Forest Classification Report\")\n",
    "RF_classification_report = classification_report(y_test1,y_pred1)\n",
    "print(RF_classification_report)\n",
    "\n",
    "# Save the accuracy, precision, recall and f1_scores.\n",
    "accuracy_score_RF = round(accuracy_score(y_test1, y_pred1), 4)*100\n",
    "precision_score_RF = round(precision_score(y_test1, y_pred1), 4)*100\n",
    "recall_score_RF = round(recall_score(y_test1, y_pred1), 4)*100\n",
    "f1_score_RF = round(f1_score(y_test1, y_pred1), 4)*100\n",
    "\n",
    "# Confusion Matrix\n",
    "random_forest_confusion_matrix = confusion_matrix(y_test1, y_pred1)\n",
    "cmd_RF=ConfusionMatrixDisplay(random_forest_confusion_matrix, display_labels = [0,1])\n",
    "fig, ax = plt.subplots(figsize=(3,3))\n",
    "plt.title('Confusion Matrix \\n (Random Forest)')\n",
    "cmd_RF.plot(ax=ax)"
   ]
  },
  {
   "cell_type": "markdown",
   "id": "f04e9e02",
   "metadata": {},
   "source": [
    " "
   ]
  },
  {
   "cell_type": "markdown",
   "id": "900d94c7",
   "metadata": {},
   "source": [
    "### Model 2 - K Nearest Neigbour"
   ]
  },
  {
   "cell_type": "code",
   "execution_count": 26,
   "id": "a58ca6a0",
   "metadata": {},
   "outputs": [
    {
     "name": "stdout",
     "output_type": "stream",
     "text": [
      "\n",
      "\n",
      "K Nearest Neigbour Classification Report\n",
      "              precision    recall  f1-score   support\n",
      "\n",
      "           0       0.65      0.48      0.55        27\n",
      "           1       0.85      0.92      0.88        84\n",
      "\n",
      "    accuracy                           0.81       111\n",
      "   macro avg       0.75      0.70      0.72       111\n",
      "weighted avg       0.80      0.81      0.80       111\n",
      "\n"
     ]
    },
    {
     "data": {
      "text/plain": [
       "<sklearn.metrics._plot.confusion_matrix.ConfusionMatrixDisplay at 0x12f30b87e50>"
      ]
     },
     "execution_count": 26,
     "metadata": {},
     "output_type": "execute_result"
    },
    {
     "data": {
      "image/png": "[encoded data removed]",
      "text/plain": [
       "<Figure size 300x300 with 2 Axes>"
      ]
     },
     "metadata": {},
     "output_type": "display_data"
    }
   ],
   "source": [
    "# Splitting the data into training and testing sets\n",
    "X_train2, X_test2, y_train2, y_test2 = train_test_split(features, label, test_size = 0.2, random_state=3444)\n",
    "\n",
    "# Training the KNN classifier\n",
    "KNN = KNeighborsClassifier(n_neighbors=9, metric='euclidean')\n",
    "KNN_model = KNN.fit(X_train2, y_train2)\n",
    "\n",
    "# Predicting on the test set\n",
    "y_pred2 = KNN.predict(X_test2)\n",
    "\n",
    "# Predict Test set Proba results\n",
    "y_proba2 = KNN_model.predict_proba(X_test2)[:,1]\n",
    "#print(y_proba2)\n",
    "\n",
    "# Display Classification Report\n",
    "print(\"\\n\")\n",
    "print(\"K Nearest Neigbour Classification Report\")\n",
    "KNN_classification_report = classification_report(y_test2,y_pred2)\n",
    "print(KNN_classification_report)\n",
    "\n",
    "# Save the accuracy, precision, recall and f1_scores.\n",
    "accuracy_score_KNN = round(accuracy_score(y_test2, y_pred2), 4)*100\n",
    "precision_score_KNN = round(precision_score(y_test2, y_pred2), 4)*100\n",
    "recall_score_KNN = round(recall_score(y_test2, y_pred2), 4)*100\n",
    "f1_score_KNN = round(f1_score(y_test2, y_pred2), 4)*100\n",
    "\n",
    "# Confusion Matrix\n",
    "k_nearest_neigbour_confusion_matrix = confusion_matrix(y_test2, y_pred2)\n",
    "cmd_KNN=ConfusionMatrixDisplay(k_nearest_neigbour_confusion_matrix, display_labels = [0,1])\n",
    "fig, ax = plt.subplots(figsize=(3,3))\n",
    "plt.title('Confusion Matrix \\n (K Nearest Neigbour)')\n",
    "cmd_KNN.plot(ax=ax)"
   ]
  },
  {
   "cell_type": "code",
   "execution_count": 27,
   "id": "d0a0d3d4",
   "metadata": {},
   "outputs": [
    {
     "data": {
      "image/png": "[encoded data removed]",
      "text/plain": [
       "<Figure size 800x300 with 1 Axes>"
      ]
     },
     "metadata": {},
     "output_type": "display_data"
    }
   ],
   "source": [
    "accuracies = []\n",
    "for k in range(1,101):\n",
    "    KNN= KNeighborsClassifier(n_neighbors = k)         # n_neighbors = k\n",
    "    KNN.fit(X_train2, y_train2)\n",
    "    #print(KNN.score(X_test2,y_test2))\n",
    "    accuracies.append(KNN.score(X_test2,y_test2))\n",
    "\n",
    "k_list = [i for i in range(1,101)]\n",
    "#print(k_list)\n",
    "\n",
    "fig = plt.figure(figsize=(8,3))\n",
    "plt.plot(k_list, accuracies)\n",
    "plt.xlabel(\"k\")\n",
    "plt.ylabel(\"Validation Accuracy\")\n",
    "plt.title(\"Liver Disease Classifier Accuracy\")\n",
    "plt.show()"
   ]
  },
  {
   "cell_type": "markdown",
   "id": "2a1f7b9a",
   "metadata": {},
   "source": [
    "<font color = \"blue\"> Note: A low k value often leads to overfitting and a large k value often leads to underfitting."
   ]
  },
  {
   "cell_type": "markdown",
   "id": "70068f34",
   "metadata": {},
   "source": [
    " "
   ]
  },
  {
   "cell_type": "markdown",
   "id": "7842634a",
   "metadata": {},
   "source": [
    "### Model 3 - Logistic Regression"
   ]
  },
  {
   "cell_type": "code",
   "execution_count": 28,
   "id": "74e5cfbb",
   "metadata": {},
   "outputs": [
    {
     "name": "stdout",
     "output_type": "stream",
     "text": [
      "\n",
      "\n",
      "Logistic Regression Classification Report\n",
      "              precision    recall  f1-score   support\n",
      "\n",
      "           0       0.57      0.30      0.39        27\n",
      "           1       0.80      0.93      0.86        84\n",
      "\n",
      "    accuracy                           0.77       111\n",
      "   macro avg       0.69      0.61      0.63       111\n",
      "weighted avg       0.75      0.77      0.75       111\n",
      "\n"
     ]
    },
    {
     "data": {
      "text/plain": [
       "<sklearn.metrics._plot.confusion_matrix.ConfusionMatrixDisplay at 0x12f324ae7a0>"
      ]
     },
     "execution_count": 28,
     "metadata": {},
     "output_type": "execute_result"
    },
    {
     "data": {
      "image/png": "[encoded data removed]",
      "text/plain": [
       "<Figure size 300x300 with 2 Axes>"
      ]
     },
     "metadata": {},
     "output_type": "display_data"
    }
   ],
   "source": [
    "# Perform train, test, split\n",
    "X_train, X_test, y_train, y_test = train_test_split(features, label, test_size=0.2, random_state = 3444)\n",
    "\n",
    "# Normalize the Data : scale the feature data so it has mean = 0 and standard deviation = 1\n",
    "scaler = StandardScaler()\n",
    "X_train = scaler.fit_transform(X_train)\n",
    "X_test = scaler.transform(X_test)\n",
    "#print(pd.DataFrame(X_train, columns=initial_df.columns[:-1]))\n",
    "\n",
    "# Create and train the model\n",
    "LR = LogisticRegression(max_iter = 100)\n",
    "LR_model = LR.fit(X_train, y_train)\n",
    "\n",
    "# Analyze the coefficients (which feature is most important in predicting)\n",
    "#print(LR.coef_)\n",
    "\n",
    "# Predictions:\n",
    "y_pred = LR_model.predict(X_test)\n",
    "#print(y_pred)\n",
    "\n",
    "# Predict Test set Proba results\n",
    "y_proba = LR_model.predict_proba(X_test)[:,1]\n",
    "#print(y_proba)\n",
    "\n",
    "# Display Classification Report\n",
    "print(\"\\n\")\n",
    "print(\"Logistic Regression Classification Report\")\n",
    "LR_classification_report = classification_report(y_test,y_pred)\n",
    "print(LR_classification_report)\n",
    "\n",
    "# Save the accuracy, precision, recall and f1_scores.\n",
    "accuracy_score_LR = round(accuracy_score(y_test, y_pred), 4)*100\n",
    "precision_score_LR = round(precision_score(y_test, y_pred), 4)*100\n",
    "recall_score_LR = round(recall_score(y_test, y_pred), 4)*100\n",
    "f1_score_LR = round(f1_score(y_test, y_pred), 4)*100\n",
    "\n",
    "# Confusion Matrix\n",
    "logistic_regression_confusion_matrix = confusion_matrix(y_test, y_pred)\n",
    "cmd_LR=ConfusionMatrixDisplay(logistic_regression_confusion_matrix, display_labels = [0,1])\n",
    "fig, ax = plt.subplots(figsize=(3,3))\n",
    "plt.title('Confusion Matrix \\n (Logistic Regression)')\n",
    "cmd_LR.plot(ax=ax)"
   ]
  },
  {
   "cell_type": "code",
   "execution_count": 29,
   "id": "d5ac6da3",
   "metadata": {},
   "outputs": [
    {
     "data": {
      "text/html": [
       "<div>\n",
       "<style scoped>\n",
       "    .dataframe tbody tr th:only-of-type {\n",
       "        vertical-align: middle;\n",
       "    }\n",
       "\n",
       "    .dataframe tbody tr th {\n",
       "        vertical-align: top;\n",
       "    }\n",
       "\n",
       "    .dataframe thead th {\n",
       "        text-align: right;\n",
       "    }\n",
       "</style>\n",
       "<table border=\"1\" class=\"dataframe\">\n",
       "  <thead>\n",
       "    <tr style=\"text-align: right;\">\n",
       "      <th></th>\n",
       "      <th>Actual_Output</th>\n",
       "      <th>Predicted_Output</th>\n",
       "      <th>Predict_Proba</th>\n",
       "    </tr>\n",
       "  </thead>\n",
       "  <tbody>\n",
       "    <tr>\n",
       "      <th>280</th>\n",
       "      <td>0</td>\n",
       "      <td>1</td>\n",
       "      <td>0.533702</td>\n",
       "    </tr>\n",
       "    <tr>\n",
       "      <th>227</th>\n",
       "      <td>0</td>\n",
       "      <td>1</td>\n",
       "      <td>0.654198</td>\n",
       "    </tr>\n",
       "    <tr>\n",
       "      <th>169</th>\n",
       "      <td>1</td>\n",
       "      <td>1</td>\n",
       "      <td>0.734370</td>\n",
       "    </tr>\n",
       "    <tr>\n",
       "      <th>215</th>\n",
       "      <td>0</td>\n",
       "      <td>1</td>\n",
       "      <td>0.564876</td>\n",
       "    </tr>\n",
       "    <tr>\n",
       "      <th>268</th>\n",
       "      <td>1</td>\n",
       "      <td>0</td>\n",
       "      <td>0.314795</td>\n",
       "    </tr>\n",
       "  </tbody>\n",
       "</table>\n",
       "</div>"
      ],
      "text/plain": [
       "     Actual_Output  Predicted_Output  Predict_Proba\n",
       "280              0                 1       0.533702\n",
       "227              0                 1       0.654198\n",
       "169              1                 1       0.734370\n",
       "215              0                 1       0.564876\n",
       "268              1                 0       0.314795"
      ]
     },
     "execution_count": 29,
     "metadata": {},
     "output_type": "execute_result"
    }
   ],
   "source": [
    "compare_df = pd.DataFrame({\"Actual_Output\": y_test, \n",
    "                           \"Predicted_Output\": y_pred,\n",
    "                            \"Predict_Proba\": y_proba})\n",
    "#compare_df.sort_values(by=['Predict_Proba'], inplace=True, ascending=False)                    #sort data function\n",
    "compare_df[:5]"
   ]
  },
  {
   "cell_type": "code",
   "execution_count": 30,
   "id": "e7e5d02e",
   "metadata": {},
   "outputs": [
    {
     "data": {
      "text/html": [
       "<div>\n",
       "<style scoped>\n",
       "    .dataframe tbody tr th:only-of-type {\n",
       "        vertical-align: middle;\n",
       "    }\n",
       "\n",
       "    .dataframe tbody tr th {\n",
       "        vertical-align: top;\n",
       "    }\n",
       "\n",
       "    .dataframe thead th {\n",
       "        text-align: right;\n",
       "    }\n",
       "</style>\n",
       "<table border=\"1\" class=\"dataframe\">\n",
       "  <thead>\n",
       "    <tr style=\"text-align: right;\">\n",
       "      <th></th>\n",
       "      <th>Actual_Output</th>\n",
       "      <th>Predicted_Output</th>\n",
       "      <th>Predict_Proba</th>\n",
       "    </tr>\n",
       "  </thead>\n",
       "  <tbody>\n",
       "    <tr>\n",
       "      <th>462</th>\n",
       "      <td>1</td>\n",
       "      <td>0</td>\n",
       "      <td>0.492325</td>\n",
       "    </tr>\n",
       "    <tr>\n",
       "      <th>345</th>\n",
       "      <td>1</td>\n",
       "      <td>0</td>\n",
       "      <td>0.490269</td>\n",
       "    </tr>\n",
       "    <tr>\n",
       "      <th>247</th>\n",
       "      <td>1</td>\n",
       "      <td>0</td>\n",
       "      <td>0.481273</td>\n",
       "    </tr>\n",
       "    <tr>\n",
       "      <th>306</th>\n",
       "      <td>1</td>\n",
       "      <td>0</td>\n",
       "      <td>0.426749</td>\n",
       "    </tr>\n",
       "    <tr>\n",
       "      <th>80</th>\n",
       "      <td>1</td>\n",
       "      <td>0</td>\n",
       "      <td>0.396334</td>\n",
       "    </tr>\n",
       "    <tr>\n",
       "      <th>268</th>\n",
       "      <td>1</td>\n",
       "      <td>0</td>\n",
       "      <td>0.314795</td>\n",
       "    </tr>\n",
       "  </tbody>\n",
       "</table>\n",
       "</div>"
      ],
      "text/plain": [
       "     Actual_Output  Predicted_Output  Predict_Proba\n",
       "462              1                 0       0.492325\n",
       "345              1                 0       0.490269\n",
       "247              1                 0       0.481273\n",
       "306              1                 0       0.426749\n",
       "80               1                 0       0.396334\n",
       "268              1                 0       0.314795"
      ]
     },
     "execution_count": 30,
     "metadata": {},
     "output_type": "execute_result"
    }
   ],
   "source": [
    "# List out the first twenty or less missed predictions\n",
    "compared_bool = compare_df['Actual_Output'] != compare_df['Predicted_Output']\n",
    "\n",
    "\n",
    "df_missed = compare_df[compared_bool]\n",
    "df_missed.sort_values(by=['Actual_Output', 'Predict_Proba'], inplace=True, ascending=False) \n",
    "df_missed.loc[(df_missed['Actual_Output']==1)]"
   ]
  },
  {
   "cell_type": "markdown",
   "id": "effd7b0e",
   "metadata": {},
   "source": [
    " "
   ]
  },
  {
   "cell_type": "markdown",
   "id": "0246c1a2",
   "metadata": {},
   "source": [
    " "
   ]
  },
  {
   "cell_type": "markdown",
   "id": "c0012e16",
   "metadata": {},
   "source": [
    " "
   ]
  },
  {
   "cell_type": "markdown",
   "id": "c251a445",
   "metadata": {},
   "source": [
    " "
   ]
  },
  {
   "cell_type": "markdown",
   "id": "0668878d",
   "metadata": {},
   "source": [
    " "
   ]
  },
  {
   "cell_type": "markdown",
   "id": "4a6960ca",
   "metadata": {},
   "source": [
    " # 6. Evaluate models"
   ]
  },
  {
   "cell_type": "markdown",
   "id": "2cef9cf4",
   "metadata": {},
   "source": [
    "### Classification Report"
   ]
  },
  {
   "cell_type": "code",
   "execution_count": 31,
   "id": "0c14f4ef",
   "metadata": {},
   "outputs": [
    {
     "data": {
      "text/html": [
       "<div>\n",
       "<style scoped>\n",
       "    .dataframe tbody tr th:only-of-type {\n",
       "        vertical-align: middle;\n",
       "    }\n",
       "\n",
       "    .dataframe tbody tr th {\n",
       "        vertical-align: top;\n",
       "    }\n",
       "\n",
       "    .dataframe thead th {\n",
       "        text-align: right;\n",
       "    }\n",
       "</style>\n",
       "<table border=\"1\" class=\"dataframe\">\n",
       "  <thead>\n",
       "    <tr style=\"text-align: right;\">\n",
       "      <th></th>\n",
       "      <th></th>\n",
       "      <th>Logistic Regression</th>\n",
       "      <th>Random Forest</th>\n",
       "      <th>K Nearest Neigbour</th>\n",
       "    </tr>\n",
       "  </thead>\n",
       "  <tbody>\n",
       "    <tr>\n",
       "      <th>0</th>\n",
       "      <td>Accuracy</td>\n",
       "      <td>77.48</td>\n",
       "      <td>78.38</td>\n",
       "      <td>81.08</td>\n",
       "    </tr>\n",
       "    <tr>\n",
       "      <th>1</th>\n",
       "      <td>Precision</td>\n",
       "      <td>80.41</td>\n",
       "      <td>84.09</td>\n",
       "      <td>84.62</td>\n",
       "    </tr>\n",
       "    <tr>\n",
       "      <th>2</th>\n",
       "      <td>Recall</td>\n",
       "      <td>92.86</td>\n",
       "      <td>88.10</td>\n",
       "      <td>91.67</td>\n",
       "    </tr>\n",
       "    <tr>\n",
       "      <th>3</th>\n",
       "      <td>F1 score</td>\n",
       "      <td>86.19</td>\n",
       "      <td>86.05</td>\n",
       "      <td>88.00</td>\n",
       "    </tr>\n",
       "  </tbody>\n",
       "</table>\n",
       "</div>"
      ],
      "text/plain": [
       "              Logistic Regression  Random Forest  K Nearest Neigbour\n",
       "0   Accuracy                77.48          78.38               81.08\n",
       "1  Precision                80.41          84.09               84.62\n",
       "2     Recall                92.86          88.10               91.67\n",
       "3   F1 score                86.19          86.05               88.00"
      ]
     },
     "execution_count": 31,
     "metadata": {},
     "output_type": "execute_result"
    }
   ],
   "source": [
    "compare_score = pd.DataFrame()\n",
    "compare_score=compare_score.reset_index(drop=True)\n",
    "\n",
    "compare_score[' '] = [\"Accuracy\", \"Precision\", \"Recall\", \"F1 score\"]\n",
    "compare_score.set_index(' ')\n",
    "compare_score['Logistic Regression'] = accuracy_score_LR, precision_score_LR, recall_score_LR, f1_score_LR\n",
    "compare_score['Random Forest'] = [accuracy_score_RF, precision_score_RF, recall_score_RF, f1_score_RF]\n",
    "compare_score['K Nearest Neigbour'] = [accuracy_score_KNN, precision_score_KNN, recall_score_KNN, f1_score_KNN]\n",
    "#compare_score['Model4'] =[0,0,0,0]\n",
    "compare_score"
   ]
  },
  {
   "cell_type": "markdown",
   "id": "40a7f039",
   "metadata": {},
   "source": [
    " "
   ]
  },
  {
   "cell_type": "markdown",
   "id": "499b285e",
   "metadata": {},
   "source": [
    " "
   ]
  },
  {
   "cell_type": "markdown",
   "id": "92b55067",
   "metadata": {},
   "source": [
    "### ROC - Receiver Operating Characteristic"
   ]
  },
  {
   "cell_type": "markdown",
   "id": "5061da0b",
   "metadata": {},
   "source": [
    "<font color = 'blue'> A graph showing the performance of a classification models at all classification thresholds."
   ]
  },
  {
   "cell_type": "code",
   "execution_count": 32,
   "id": "61b68b06",
   "metadata": {},
   "outputs": [
    {
     "data": {
      "image/png": "[encoded data removed]",
      "text/plain": [
       "<Figure size 1600x1000 with 3 Axes>"
      ]
     },
     "metadata": {},
     "output_type": "display_data"
    }
   ],
   "source": [
    "# instantiating the roc_cruve\n",
    "fpr1, tpr1, thresholds1 = roc_curve(y_test1, y_proba1)     # Random Forest\n",
    "fpr, tpr, thresholds = roc_curve(y_test, y_proba)          # Logistic Regression\n",
    "fpr2, tpr2, thresholds2 = roc_curve(y_test2, y_proba2)          # Logistic Regression\n",
    "\n",
    "fig = plt.figure(figsize=(16,10))\n",
    "\n",
    "plt.subplot(2,2,1)\n",
    "plt.plot(fpr1, tpr1, label='L1')     # Plot ROC curve\n",
    "plt.legend(loc='lower right')        # Position of legend\n",
    "plt.plot([0,1],[0,1],'k--')          # Diagonal 45 degree line\n",
    "plt.title('ROC-Random Forest')\n",
    "plt.xlim([-0.1,1.1])                 # Axes limits and labels\n",
    "plt.ylim([-0.1,1.1])\n",
    "plt.ylabel('True Positive Rate')\n",
    "plt.xlabel('False Positive Rate')\n",
    "\n",
    "plt.subplot(2,2,2)\n",
    "plt.plot(fpr, tpr, label='L2')\n",
    "plt.legend(loc='lower right')\n",
    "plt.plot([0,1],[0,1],'k--')\n",
    "#plt.plot([0, 1], [0, 1], color = 'g')\n",
    "plt.title('ROC-Logistic Regression')\n",
    "plt.xlim([-0.1,1.1])\n",
    "plt.ylim([-0.1,1.1])\n",
    "plt.ylabel('True Positive Rate')\n",
    "plt.xlabel('False Positive Rate')\n",
    "\n",
    "plt.subplot(2,2,3)\n",
    "plt.plot(fpr2, tpr2, label='L3')\n",
    "plt.legend(loc='lower right')\n",
    "plt.plot([0,1],[0,1],'k--')\n",
    "#plt.plot([0, 1], [0, 1], color = 'g')\n",
    "plt.title('ROC-K Nearest Neigbour')\n",
    "plt.xlim([-0.1,1.1])\n",
    "plt.ylim([-0.1,1.1])\n",
    "plt.ylabel('True Positive Rate')\n",
    "plt.xlabel('False Positive Rate')\n",
    "\n",
    "plt.show()"
   ]
  },
  {
   "cell_type": "markdown",
   "id": "ceab3f84",
   "metadata": {},
   "source": [
    " "
   ]
  },
  {
   "cell_type": "markdown",
   "id": "4f45aa0f",
   "metadata": {},
   "source": [
    "### AUC - Area Under ROC Curve"
   ]
  },
  {
   "cell_type": "markdown",
   "id": "118a33c8",
   "metadata": {},
   "source": [
    "<font color = \"blue\"> AUC measures the entire two-dimensional area underneath the entire ROC curve."
   ]
  },
  {
   "cell_type": "code",
   "execution_count": 33,
   "id": "3d0fe801",
   "metadata": {},
   "outputs": [
    {
     "data": {
      "image/png": "[encoded data removed]",
      "text/plain": [
       "<Figure size 600x400 with 1 Axes>"
      ]
     },
     "metadata": {},
     "output_type": "display_data"
    }
   ],
   "source": [
    "RF_AUC = round(roc_auc_score(y_test1, y_proba1), 2)\n",
    "KNN_AUC = round(roc_auc_score(y_test2, y_proba2), 2)\n",
    "LR_AUC = round(roc_auc_score(y_test, y_proba), 2)\n",
    "\n",
    "plt.figure(figsize=(6,4))\n",
    "plt.bar(\"Random Forest\", RF_AUC , color=[\"blanchedalmond\"], alpha = 0.40)\n",
    "plt.bar(\"K Nearest Neigbour\", KNN_AUC , color=[\"steelblue\"], alpha = 0.20)\n",
    "plt.bar(\"Logistic Regression\", LR_AUC , color=[\"rebeccapurple\"], alpha = 0.20)\n",
    "\n",
    "plt.text(\"Random Forest\", RF_AUC, RF_AUC, ha = 'center')\n",
    "plt.text(\"K Nearest Neigbour\", KNN_AUC, KNN_AUC, ha = 'center')\n",
    "plt.text(\"Logistic Regression\", LR_AUC, LR_AUC, ha = 'center')\n",
    "\n",
    "plt.title(\"Compare different models AUC\")\n",
    "plt.xlabel(\"Models\")\n",
    "plt.ylabel('Score')\n",
    "plt.show()"
   ]
  },
  {
   "cell_type": "markdown",
   "id": "333406dd",
   "metadata": {},
   "source": [
    "  "
   ]
  },
  {
   "cell_type": "markdown",
   "id": "20ae74b3",
   "metadata": {},
   "source": [
    "  "
   ]
  },
  {
   "cell_type": "markdown",
   "id": "79f69f75",
   "metadata": {},
   "source": [
    "  # 7. Insights"
   ]
  },
  {
   "cell_type": "markdown",
   "id": "f0ec7351",
   "metadata": {},
   "source": [
    " - Due to the small size of the dataset (553 observations) and its mild class imbalance, with the minority class (class 0) accounting for approximately less than 30%, the model performances are expected to vary. Furthermore, the number of positive records is three times higher than the number of negative records.\n",
    " <br>\n",
    "\n",
    " - The classification report shows accuracy scores ranging from approximately 77% to 81% for all three models, with the highest score achieved by KNN. However, since our goal is to capture all positive cases in this scenario, we should prioritize the Recall score when selecting a model for prediction. According to the Recall score, Logistic Regression performs the best with an accuracy of 92.86%.\n",
    " <br>\n",
    "\n",
    "- When examining the ROC graphs, reducing the thresholds value will allows us to capture all False Negatives (FN). The AUC score indicates that the Random Forest model is the best model for prediction. However, since our focus is on capturing all positive cases rather than accurately ranking predictions, the AUC score is not a useful metric for this specific prediction ranking.\n",
    "<br>"
   ]
  },
  {
   "cell_type": "markdown",
   "id": "b37122b2",
   "metadata": {},
   "source": [
    " "
   ]
  },
  {
   "cell_type": "markdown",
   "id": "1eae07fd",
   "metadata": {},
   "source": [
    " "
   ]
  },
  {
   "cell_type": "markdown",
   "id": "da392c99",
   "metadata": {},
   "source": [
    " "
   ]
  },
  {
   "cell_type": "markdown",
   "id": "a388e60a",
   "metadata": {},
   "source": [
    "   # 8. Bonus Round"
   ]
  },
  {
   "cell_type": "code",
   "execution_count": 37,
   "id": "f8c8c8c7",
   "metadata": {},
   "outputs": [
    {
     "name": "stdout",
     "output_type": "stream",
     "text": [
      "Logistic Regression model predict:  [1]\n",
      "Random Forest model predict:        [1]\n",
      "K Nearest Neigbour model predict:   [1]\n",
      "                                                   ***[0] Without Liver Disease\n",
      "                                                      [1] With Liver Disease\n"
     ]
    }
   ],
   "source": [
    "    # [Bonus-round Prediction]\n",
    "Jack = np.array([36, 0, 1.50, 72, 145, 65, 7.4, 4.5, 1.55])       # CK's Liver Profile Test\n",
    "Jack = Jack.reshape(1, -1)\n",
    "\n",
    "    # Scale sample person features\n",
    "Jack_scaled = scaler.transform(Jack)\n",
    "\n",
    "    # Make predictions!\n",
    "y_pred_jack = LR_model.predict(Jack_scaled)\n",
    "y_pred1_jack = RF_model.predict(Jack)\n",
    "y_pred2_jack = KNN_model.predict(Jack)\n",
    "print(\"Logistic Regression model predict: \", y_pred_jack)\n",
    "print(\"Random Forest model predict:       \", y_pred1_jack)\n",
    "print(\"K Nearest Neigbour model predict:  \", y_pred2_jack)\n",
    "\n",
    "print(\"                                                   ***[0] Without Liver Disease\")\n",
    "print(\"                                                      [1] With Liver Disease\")"
   ]
  },
  {
   "cell_type": "markdown",
   "id": "29527eb9",
   "metadata": {},
   "source": [
    " "
   ]
  },
  {
   "cell_type": "markdown",
   "id": "ac4809b5",
   "metadata": {},
   "source": [
    "<font color = \"blue\"> And all **three models predicted correctly** as Jack do have Liver Disease (NAFLD, aka Non-alcoholic fatty liver disease)."
   ]
  },
  {
   "cell_type": "markdown",
   "id": "207edb5b",
   "metadata": {},
   "source": [
    " "
   ]
  },
  {
   "cell_type": "markdown",
   "id": "6a6e8d5f",
   "metadata": {},
   "source": [
    " "
   ]
  },
  {
   "cell_type": "markdown",
   "id": "2c107f11",
   "metadata": {},
   "source": [
    " "
   ]
  },
  {
   "cell_type": "markdown",
   "id": "4d668a75",
   "metadata": {},
   "source": [
    " "
   ]
  },
  {
   "cell_type": "markdown",
   "id": "b7bec29d",
   "metadata": {},
   "source": [
    "## End of Presentation"
   ]
  }
 ],
 "metadata": {
  "celltoolbar": "Raw Cell Format",
  "kernelspec": {
   "display_name": "Python 3 (ipykernel)",
   "language": "python",
   "name": "python3"
  },
  "language_info": {
   "codemirror_mode": {
    "name": "ipython",
    "version": 3
   },
   "file_extension": ".py",
   "mimetype": "text/x-python",
   "name": "python",
   "nbconvert_exporter": "python",
   "pygments_lexer": "ipython3",
   "version": "3.10.9"
  }
 },
 "nbformat": 4,
 "nbformat_minor": 5
}
